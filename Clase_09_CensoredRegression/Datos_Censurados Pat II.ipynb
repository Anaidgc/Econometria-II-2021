{
 "cells": [
  {
   "cell_type": "markdown",
   "metadata": {},
   "source": [
    "# Ejemplo de datos con censura\n",
    "\n",
    "Datos de consumo de gas LP, ¿cuánto Gas LP consumen los hogares en México?, ¿tiene sustitutos?"
   ]
  },
  {
   "cell_type": "markdown",
   "metadata": {},
   "source": [
    "## 1. Importación de bibliotecas y datos:"
   ]
  },
  {
   "cell_type": "code",
   "execution_count": null,
   "metadata": {},
   "outputs": [],
   "source": [
    "import pandas as pd\n",
    "import statsmodels.api as sm\n",
    "import numpy as np\n",
    "import matplotlib.pyplot as plt\n",
    "from statsmodels.iolib.summary2 import summary_col\n",
    "from tobit import *\n",
    "\n",
    "# Omiting WARNINGS\n",
    "import warnings\n",
    "warnings.filterwarnings('ignore')"
   ]
  },
  {
   "cell_type": "code",
   "execution_count": null,
   "metadata": {},
   "outputs": [],
   "source": [
    "# Read data\n",
    "GasLP_df = pd.read_stata('Gas_LP.dta')\n",
    "GasLP_df"
   ]
  },
  {
   "cell_type": "markdown",
   "metadata": {},
   "source": [
    "* folioviv: Identificador de la vivienda\n",
    "* foliohog: Identificador del hogar\n",
    "* ageb: Área geoestadísstica básica\n",
    "* est_dis: Estrato de diseño muestral\n",
    "* upm: Unidad primaria de muestreo\n",
    "* factor: Factor de expansión\n",
    "* ubica_geo: Ubicación geográfica\n",
    "* entidad: Entidad\n",
    "* cve_ent:               \n",
    "* Entidad: Entidad\n",
    "* cve_mun     \n",
    "* nom_mun: nom_mun\n",
    "* cve_loc: \n",
    "* lat_dec_loc: LAT_DEC\n",
    "* lon_dec_loc: LON_DEC\n",
    "* altitud: ALTITUD\n",
    "* tam_loc: Tamaño de localidad\n",
    "* rural: Rural=1 según folioviv\n",
    "* tot_integ: Número de integrantes del hogar\n",
    "* estufa: Tiene estufa en su casa\n",
    "* calent_sol: Dispone de calentador solar de agua\n",
    "* tanque_gas: Dispone de tanque de gas estacionario\n",
    "* tenencia: Tipo de tenencia de la vivienda\n",
    "* rentada: Vivienda rentada o prestada\n",
    "* ing_cor: Ingreso corriente en miles\n",
    "* ing_deciles: # de decil de ingreso\n",
    "* ling_cor: Log del ingreso corriente mensual\n",
    "* ling_cor2: Cuadrado del log del ingreso corriente mensual\n",
    "* gasto_gaslp: Gasto en gas LP\n",
    "* p_gaslp: Precio por kg del gas LP\n",
    "* lgasto_gaslp: log de gasto en gas LP\n",
    "* lp_gaslp: Log de precio por kg de gaslp\n",
    "* gasto_elect: Gasto en electricdad\n",
    "* p_elect: Precio en centavos por Kw/hr de la electricidad\n",
    "* gasto_gasnat: Gasto en gas natural\n",
    "* p_gasnat: Precio del gas natural en pesos por GJ\n",
    "* lp_gasnat: Log del precio por GJ de gas natural\n",
    "* lp_gasnat_kg: Log del precio por kg equivalnte del gas natural\n",
    "* gasto_carb: Gasto en carbon\n",
    "* gasto_lena: Gasto en legna\n",
    "* gasto_perol: Gasto en petróleo en hogar\n",
    "* gasto_diesel: Gasto en diesel\n",
    "* gasto_comb: Gasto en combustible para calentar\n",
    "* gasto_otroscomb: Gasto en otros combustibles\n",
    "* acc_gasnat: Dummy, =1 si su localidad tiene acceso a gas natural, =0 si no\n",
    "\n",
    "Fuente: ENIGH-2016 y otras fuentes del Gobierno Federal"
   ]
  },
  {
   "cell_type": "markdown",
   "metadata": {},
   "source": [
    "## 2. Análisis regresión\n",
    "\n",
    "¿El gasto en Gas LP es una variabe censurada?"
   ]
  },
  {
   "cell_type": "code",
   "execution_count": null,
   "metadata": {},
   "outputs": [],
   "source": [
    "#\n",
    "GasLP_df2 = GasLP_df[GasLP_df.gasto_gasnat == 0]\n",
    "GasLP_df2"
   ]
  },
  {
   "cell_type": "code",
   "execution_count": null,
   "metadata": {},
   "outputs": [],
   "source": [
    "GasLP_df2.lgasto_gaslp"
   ]
  },
  {
   "cell_type": "code",
   "execution_count": null,
   "metadata": {},
   "outputs": [],
   "source": [
    "# Remplazamos NaN con 0\n",
    "GasLP_df2['lgasto_gaslp'].fillna(0, inplace=True)"
   ]
  },
  {
   "cell_type": "code",
   "execution_count": null,
   "metadata": {},
   "outputs": [],
   "source": [
    "# Mostramos algunos valores\n",
    "GasLP_df2.lgasto_gaslp"
   ]
  },
  {
   "cell_type": "code",
   "execution_count": null,
   "metadata": {},
   "outputs": [],
   "source": [
    "# Borramos valores NaN de la muestra\n",
    "GasLP_df3 = GasLP_df2.dropna(how='any')\n",
    "GasLP_df3"
   ]
  },
  {
   "cell_type": "code",
   "execution_count": null,
   "metadata": {},
   "outputs": [],
   "source": [
    "# plotting histogram in order to see\n",
    "plt.hist(GasLP_df3.gasto_gaslp, normed = True, histtype='bar')\n",
    "\n",
    "#plt.legend()\n",
    "plt.ylabel('Gasto en Gas LP')\n",
    "plt.title('Histogram')\n",
    "\n",
    "plt.show()"
   ]
  },
  {
   "cell_type": "code",
   "execution_count": null,
   "metadata": {},
   "outputs": [],
   "source": [
    "GasLP_df3['cens'] = 0\n",
    "GasLP_df3.loc[(GasLP_df3.lgasto_gaslp == 0), 'cens'] = -1\n",
    "GasLP_df3"
   ]
  },
  {
   "cell_type": "code",
   "execution_count": null,
   "metadata": {},
   "outputs": [],
   "source": [
    "# Dfinimos variables\n",
    "y = GasLP_df3.lgasto_gaslp\n",
    "x = GasLP_df3[['ling_cor', 'ling_cor2', 'tot_integ', 'lp_gaslp', 'acc_gasnat']]"
   ]
  },
  {
   "cell_type": "code",
   "execution_count": null,
   "metadata": {},
   "outputs": [],
   "source": [
    "y"
   ]
  },
  {
   "cell_type": "code",
   "execution_count": null,
   "metadata": {},
   "outputs": [],
   "source": [
    "# Variable de censura\n",
    "cens = pd.Series(GasLP_df3.cens)\n",
    "cens.value_counts()"
   ]
  },
  {
   "cell_type": "code",
   "execution_count": null,
   "metadata": {},
   "outputs": [],
   "source": [
    "# Estimación del modelo Tobit\n",
    "\n",
    "tr = TobitModel()\n",
    "tr = tr.fit(x, y, cens, verbose = True)"
   ]
  },
  {
   "cell_type": "code",
   "execution_count": null,
   "metadata": {},
   "outputs": [],
   "source": [
    "# Resultados\n",
    "tr.intercept_, tr.coef_"
   ]
  },
  {
   "cell_type": "code",
   "execution_count": null,
   "metadata": {},
   "outputs": [],
   "source": [
    "tr.sigma_"
   ]
  },
  {
   "cell_type": "code",
   "execution_count": null,
   "metadata": {},
   "outputs": [],
   "source": [
    "# Adecuaciones a X:\n",
    "x = sm.add_constant(x)"
   ]
  },
  {
   "cell_type": "code",
   "execution_count": null,
   "metadata": {},
   "outputs": [],
   "source": [
    "# OLS\n",
    "model = sm.OLS(y, x)\n",
    "results = model.fit()\n",
    "print(results.summary())"
   ]
  },
  {
   "cell_type": "code",
   "execution_count": null,
   "metadata": {},
   "outputs": [],
   "source": []
  }
 ],
 "metadata": {
  "kernelspec": {
   "display_name": "Python 3",
   "language": "python",
   "name": "python3"
  },
  "language_info": {
   "codemirror_mode": {
    "name": "ipython",
    "version": 3
   },
   "file_extension": ".py",
   "mimetype": "text/x-python",
   "name": "python",
   "nbconvert_exporter": "python",
   "pygments_lexer": "ipython3",
   "version": "3.7.5"
  }
 },
 "nbformat": 4,
 "nbformat_minor": 1
}
