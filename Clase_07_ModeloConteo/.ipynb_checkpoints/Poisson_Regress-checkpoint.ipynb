{
 "cells": [
  {
   "cell_type": "markdown",
   "metadata": {},
   "source": [
    "# Regresión Poisson\n",
    "\n",
    "Modelo simple aplicado a set de datos"
   ]
  },
  {
   "cell_type": "markdown",
   "metadata": {},
   "source": [
    "## 1. Importación de bibliotecas y datos:"
   ]
  },
  {
   "cell_type": "code",
   "execution_count": null,
   "metadata": {},
   "outputs": [],
   "source": [
    "import pandas as pd\n",
    "import statsmodels.api as sm\n",
    "import numpy as np\n",
    "import matplotlib.pyplot as plt\n",
    "from statsmodels.iolib.summary2 import summary_col\n",
    "\n",
    "# Omiting WARNINGS\n",
    "import warnings\n",
    "warnings.filterwarnings('ignore')"
   ]
  },
  {
   "cell_type": "code",
   "execution_count": null,
   "metadata": {},
   "outputs": [],
   "source": [
    "# Read data\n",
    "fertil_df = pd.read_stata('FERTIL2.dta')\n",
    "fertil_df.head()"
   ]
  },
  {
   "cell_type": "markdown",
   "metadata": {},
   "source": [
    "### Datos importados:\n",
    "    1. mnthborn                 month woman born\n",
    "    2. yearborn                 year woman born\n",
    "    3. age                      age in years\n",
    "    4. electric                 =1 if has electricity\n",
    "    5. radio                    =1 if has radio\n",
    "    6. tv                       =1 if has tv\n",
    "    7. bicycle                  =1 if has bicycle\n",
    "    8. educ                     years of education\n",
    "    9. ceb                      children ever born\n",
    "    10. agefbrth                 age at first birth\n",
    "    11. children                 number of living children\n",
    "    12. knowmeth                 =1 if know about birth control\n",
    "    13. usemeth                  =1 if ever use birth control\n",
    "    14. monthfm                  month of first marriage\n",
    "    15. yearfm                   year of first marriage\n",
    "    16. agefm                    age at first marriage\n",
    "    17. idlnchld                 'ideal' number of children\n",
    "    18. heduc                    husband's years of education\n",
    "    19. agesq                    age^2\n",
    "    20. urban                    =1 if live in urban area\n",
    "    21. urbeduc                  urban*educ\n",
    "    22. spirit                   =1 if religion == spirit\n",
    "    23. protest                  =1 if religion == protestant\n",
    "    24. catholic                 =1 if religion == catholic\n",
    "    25. frsthalf                 =1 if mnthborn <= 6\n",
    "    26. educ0                    =1 if educ == 0\n",
    "    27. evermarr                 =1 if ever married\n"
   ]
  },
  {
   "cell_type": "markdown",
   "metadata": {},
   "source": [
    "Utilizamos los datos para estimar los efectos de la educación sobre la fertilidad de las mujeres en Botswana. La variable de respuesta es el número de niños vivos. Usamos una función de regresión exponencial estándar, y las variables explicativas son años de escolaridad (educ), una edad cuadrática e indicadores binarios para casados, que viven en un área urbana, que tienen electricidad y que poseen un televisor.\n",
    "\n",
    "También se incluye un modelo de regresión lineal, con los errores estándar de OLS habituales."
   ]
  },
  {
   "cell_type": "markdown",
   "metadata": {},
   "source": [
    "## 2. Análisis descriptivo"
   ]
  },
  {
   "cell_type": "code",
   "execution_count": null,
   "metadata": {},
   "outputs": [],
   "source": [
    "#\n",
    "fertil_df = fertil_df[['children' ,'educ', 'age', 'agesq', 'evermarr', 'urban', 'electric', 'tv']].dropna()"
   ]
  },
  {
   "cell_type": "code",
   "execution_count": null,
   "metadata": {},
   "outputs": [],
   "source": [
    "#\n",
    "fertil_df.children.max(), fertil_df.children.min()"
   ]
  },
  {
   "cell_type": "code",
   "execution_count": null,
   "metadata": {},
   "outputs": [],
   "source": [
    "# plotting histogram in order to see\n",
    "plt.hist(fertil_df.children, bins = 14, normed = True, histtype='bar')\n",
    "\n",
    "#plt.legend()\n",
    "plt.ylabel('Count of Children')\n",
    "plt.title('Histogram number of living children')\n",
    "\n",
    "plt.show()"
   ]
  },
  {
   "cell_type": "code",
   "execution_count": null,
   "metadata": {},
   "outputs": [],
   "source": [
    "# Scatter Plot 1:\n",
    "# Getting x and y values\n",
    "x_values = fertil_df['age']\n",
    "y_values = fertil_df['children']\n",
    "\n",
    "# Plot scatter plot\n",
    "plt.scatter(x_values, y_values, marker = 'o')\n",
    "#plt.grid()\n",
    "\n",
    "plt.title('Relación entre número de hijos y edad de la madre')\n",
    "plt.xlabel('Edad en años')\n",
    "plt.ylabel('Número de hijos')\n",
    "\n",
    "# Save the Figure\n",
    "#plt.savefig(\"Fig1.png\")\n",
    "\n",
    "# Show plot\n",
    "plt.show()"
   ]
  },
  {
   "cell_type": "code",
   "execution_count": null,
   "metadata": {},
   "outputs": [],
   "source": [
    "# Scatter Plot 2:\n",
    "# Getting x and y values\n",
    "x_values = fertil_df['educ']\n",
    "y_values = fertil_df['children']\n",
    "\n",
    "# Plot scatter plot\n",
    "plt.scatter(x_values, y_values, marker = 'o')\n",
    "#plt.grid()\n",
    "\n",
    "plt.title('Relación entre número de hijos y educación de la madre')\n",
    "plt.xlabel('Años de educación')\n",
    "plt.ylabel('Número de hijos')\n",
    "\n",
    "# Save the Figure\n",
    "#plt.savefig(\"Fig2.png\")\n",
    "\n",
    "# Show plot\n",
    "plt.show()"
   ]
  },
  {
   "cell_type": "markdown",
   "metadata": {},
   "source": [
    "## 3. Estimación"
   ]
  },
  {
   "cell_type": "code",
   "execution_count": null,
   "metadata": {},
   "outputs": [],
   "source": [
    "# Definición de variables:\n",
    "Y = fertil_df['children']\n",
    "X = fertil_df[['educ', 'age', 'agesq', 'evermarr', 'urban', 'electric', 'tv']]\n",
    "X = sm.add_constant(X)"
   ]
  },
  {
   "cell_type": "code",
   "execution_count": null,
   "metadata": {},
   "outputs": [],
   "source": [
    "# OLS:\n",
    "Model_OLS = sm.OLS(Y, X)\n",
    "Model_OLS_res = Model_OLS.fit()\n",
    "print(Model_OLS_res.summary())"
   ]
  },
  {
   "cell_type": "code",
   "execution_count": null,
   "metadata": {},
   "outputs": [],
   "source": [
    "# Poisson:\n",
    "poisson_mod = sm.Poisson(Y, X)\n",
    "poisson_res = poisson_mod.fit()\n",
    "print(poisson_res.summary())"
   ]
  },
  {
   "cell_type": "code",
   "execution_count": null,
   "metadata": {},
   "outputs": [],
   "source": [
    "# Resultados:\n",
    "results_table = summary_col(results=[Model_OLS_res, poisson_res],\n",
    "                            float_format='%0.2f',\n",
    "                            stars = True,\n",
    "                            model_names=['Model OLS',\n",
    "                                         'Model Poisson'],\n",
    "                            regressor_order=['const',\n",
    "                                             'educ', \n",
    "                                             'age', \n",
    "                                             'agesq', \n",
    "                                             'evermarr', \n",
    "                                             'urban', \n",
    "                                             'electric', \n",
    "                                             'tv'])\n",
    "\n",
    "results_table.add_title('Table 1 - Comparative OLS and Poisson Regressions')\n",
    "\n",
    "print(results_table)"
   ]
  },
  {
   "cell_type": "code",
   "execution_count": null,
   "metadata": {},
   "outputs": [],
   "source": [
    "# Mean matrix values:\n",
    "X_mean = pd.DataFrame(fertil_df[['educ', 'age', 'agesq', 'evermarr', 'urban', 'electric', 'tv']].mean()).T\n",
    "X_mean['const'] = 1\n",
    "X_mean = X_mean[['const', 'educ', 'age', 'agesq', 'evermarr', 'urban', 'electric', 'tv']]"
   ]
  },
  {
   "cell_type": "code",
   "execution_count": null,
   "metadata": {},
   "outputs": [],
   "source": [
    "# Predicted values OLS\n",
    "Model_OLS_res.predict(X_mean)"
   ]
  },
  {
   "cell_type": "code",
   "execution_count": null,
   "metadata": {},
   "outputs": [],
   "source": [
    "# Predicted values Poisson\n",
    "poisson_res.predict(X_mean)"
   ]
  },
  {
   "cell_type": "code",
   "execution_count": null,
   "metadata": {},
   "outputs": [],
   "source": [
    "poisson_margeff = poisson_res.get_margeff()\n",
    "print(poisson_margeff.summary())"
   ]
  },
  {
   "cell_type": "code",
   "execution_count": null,
   "metadata": {},
   "outputs": [],
   "source": []
  }
 ],
 "metadata": {
  "kernelspec": {
   "display_name": "Python 3",
   "language": "python",
   "name": "python3"
  },
  "language_info": {
   "codemirror_mode": {
    "name": "ipython",
    "version": 3
   },
   "file_extension": ".py",
   "mimetype": "text/x-python",
   "name": "python",
   "nbconvert_exporter": "python",
   "pygments_lexer": "ipython3",
   "version": "3.7.5"
  }
 },
 "nbformat": 4,
 "nbformat_minor": 2
}
